{
 "cells": [
  {
   "cell_type": "code",
   "execution_count": null,
   "id": "46712350",
   "metadata": {},
   "outputs": [],
   "source": [
    "import cv2\n",
    "import numpy as np\n",
    "import random\n",
    "import torch\n",
    "from src.coco_names import COCO_INSTANCE_CATEGORY_NAMES as coco_names\n",
    "from torchvision.transforms import transforms as transforms\n",
    "\n",
    "\n",
    "\n",
    "def count_car(labels):\n",
    "    nbcar=0;\n",
    "    for k in range(labels):\n",
    "        if(labels(k)=='car')\n",
    "            nbcar=nbcar+1;\n",
    "    \n",
    "        \n",
    "    return nbcar\n",
    "    \n",
    "    \n",
    "    "
   ]
  }
 ],
 "metadata": {
  "kernelspec": {
   "display_name": "Python 3 (ipykernel)",
   "language": "python",
   "name": "python3"
  },
  "language_info": {
   "codemirror_mode": {
    "name": "ipython",
    "version": 3
   },
   "file_extension": ".py",
   "mimetype": "text/x-python",
   "name": "python",
   "nbconvert_exporter": "python",
   "pygments_lexer": "ipython3",
   "version": "3.9.7"
  }
 },
 "nbformat": 4,
 "nbformat_minor": 5
}
